{
  "nbformat": 4,
  "nbformat_minor": 0,
  "metadata": {
    "colab": {
      "name": "Untitled1.ipynb",
      "provenance": [],
      "authorship_tag": "ABX9TyP43OpL+o6D75aRaKZebAVK",
      "include_colab_link": true
    },
    "kernelspec": {
      "name": "python3",
      "display_name": "Python 3"
    },
    "language_info": {
      "name": "python"
    }
  },
  "cells": [
    {
      "cell_type": "markdown",
      "metadata": {
        "id": "view-in-github",
        "colab_type": "text"
      },
      "source": [
        "<a href=\"https://colab.research.google.com/github/naveen2608/basic-ml/blob/main/Untitled1.ipynb\" target=\"_parent\"><img src=\"https://colab.research.google.com/assets/colab-badge.svg\" alt=\"Open In Colab\"/></a>"
      ]
    },
    {
      "cell_type": "code",
      "metadata": {
        "colab": {
          "base_uri": "https://localhost:8080/"
        },
        "id": "lx4QVvM4wPq1",
        "outputId": "1f9e2b28-a58a-44e6-9cf0-71986991e708"
      },
      "source": [
        "#program to find maximum of three numbers\n",
        "\n",
        "a=int(input())\n",
        "b=int(input())\n",
        "c=int(input())\n",
        "#checking a is maximum or not\n",
        "if (a>b) and (a>c):\n",
        "  print(\"a is maximum\")\n",
        "  #checking b is maximum or not\n",
        "elif (b>a) and (b>c):\n",
        "  print(\"b is maximumn\")\n",
        "  #else c is maximum\n",
        "else:\n",
        "  print(\" c is maximum\")  "
      ],
      "execution_count": 2,
      "outputs": [
        {
          "output_type": "stream",
          "text": [
            "3\n",
            "8\n",
            "1\n",
            "b is maximumn\n"
          ],
          "name": "stdout"
        }
      ]
    },
    {
      "cell_type": "code",
      "metadata": {
        "colab": {
          "base_uri": "https://localhost:8080/"
        },
        "id": "zPHTwYXKyvIL",
        "outputId": "dd6bab2e-be35-4457-db59-c1a046c91df1"
      },
      "source": [
        "#program to sum of n natural numbers\n",
        "\n",
        "n=int(input())\n",
        "a=0\n",
        "for i in range(1,n+1):\n",
        "  a+=i\n",
        "print(\"the sum of n natural numbers is\",a)"
      ],
      "execution_count": 4,
      "outputs": [
        {
          "output_type": "stream",
          "text": [
            "10\n",
            "the sum of n natural numbers is 55\n"
          ],
          "name": "stdout"
        }
      ]
    },
    {
      "cell_type": "code",
      "metadata": {
        "colab": {
          "base_uri": "https://localhost:8080/"
        },
        "id": "--n45Drv0hmQ",
        "outputId": "87d71b12-3efe-4faa-9b6e-f908fc8b2987"
      },
      "source": [
        "#program to find factorial of number\n",
        "\n",
        "n=int(input())\n",
        "fact=1\n",
        "for i in range(1,n+1):\n",
        "  fact=fact*i\n",
        "print(\"factorial of number n is\",fact)   \n"
      ],
      "execution_count": 5,
      "outputs": [
        {
          "output_type": "stream",
          "text": [
            "5\n",
            "factorial of number n is 120\n"
          ],
          "name": "stdout"
        }
      ]
    }
  ]
}